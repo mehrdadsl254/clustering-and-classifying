{
 "cells": [
  {
   "cell_type": "code",
   "execution_count": 8,
   "metadata": {},
   "outputs": [],
   "source": [
    "def classify(train_model = 'XGBoost',percentage = 0.3,epoche = 10):\n",
    "    import pandas as pd\n",
    "    import numpy as np\n",
    "    from sklearn.metrics import precision_score, recall_score, f1_score ,accuracy_score\n",
    "    from sklearn.model_selection import train_test_split\n",
    "    from imblearn.over_sampling import SMOTE\n",
    "    from imblearn.under_sampling import RandomUnderSampler\n",
    "    from imblearn.over_sampling import RandomOverSampler\n",
    "    from sklearn.linear_model import LogisticRegression\n",
    "    from sklearn.ensemble import RandomForestClassifier\n",
    "    from sklearn.preprocessing import StandardScaler\n",
    "    from tensorflow.keras import Sequential\n",
    "    from tensorflow.keras.layers import Dense, Dropout\n",
    "    from tensorflow.keras.callbacks import EarlyStopping\n",
    "    from tensorflow.keras.optimizers import Adam\n",
    "    from sklearn.svm import SVC\n",
    "    from sklearn.neighbors import KNeighborsClassifier\n",
    "    from sklearn.tree import DecisionTreeClassifier \n",
    "    from xgboost import XGBClassifier\n",
    "    \n",
    "\n",
    "    data = pd.read_csv('creditcard.csv')\n",
    "\n",
    "    # fraud_count = data['Class'].sum()\n",
    "    # non_fraud_count = len(data) - fraud_count\n",
    "    # print(\"Number of fraud transactions:\", fraud_count)\n",
    "    # print(\"Number of non-fraud transactions:\", non_fraud_count)\n",
    "\n",
    "    X = data.drop('Class', axis=1)\n",
    "    y = data['Class']\n",
    "\n",
    "    X_train, X_test, y_train, y_test = train_test_split(X, y, test_size=0.2, random_state=42)\n",
    "\n",
    "    # smote = RandomOverSampler(sampling_strategy=0.4, random_state=42)\n",
    "    smote = SMOTE(sampling_strategy=percentage,random_state=42)\n",
    "    X_train_oversampled, y_train_oversampled = smote.fit_resample(X_train, y_train)\n",
    "\n",
    "    under_sampler = RandomUnderSampler(sampling_strategy=1,random_state=42)\n",
    "    X_train_undersampled, y_train_undersampled = under_sampler.fit_resample(X_train_oversampled, y_train_oversampled)\n",
    "\n",
    "    #normalization\n",
    "    from sklearn.preprocessing import StandardScaler\n",
    "    scaler = StandardScaler()\n",
    "    X_train_undersampled = scaler.fit_transform(X_train_undersampled)\n",
    "    X_test = scaler.transform(X_test)\n",
    "    # Train the model deep neural network\n",
    "    if train_model == 'dnn':\n",
    "        # Convert the data to numpy arrays\n",
    "        y_train_undersampled = np.array(y_train_undersampled).reshape(-1, 1)\n",
    "        y_test = np.array(y_test).reshape(-1, 1)\n",
    "        classifier = Sequential()\n",
    "        classifier.add(Dense(32, activation='relu'))\n",
    "        classifier.add(Dense(16, activation='relu'))\n",
    "        classifier.add(Dense(8, activation='relu'))\n",
    "        classifier.add(Dense(1, activation='sigmoid'))\n",
    "        classifier.compile(optimizer=Adam(lr=0.01), loss='binary_crossentropy', metrics=['accuracy'])\n",
    "        early_stopping = EarlyStopping(monitor='val_loss', patience=5)\n",
    "        classifier.fit(X_train_undersampled, y_train_undersampled, epochs=epoche, validation_split=0.2, callbacks=[early_stopping])\n",
    "\n",
    "\n",
    "    elif train_model == 'svm':\n",
    "        classifier = SVC(kernel='poly',C=0.1,gamma=1,random_state=42)\n",
    "        classifier.fit(X_train_undersampled,y_train_undersampled) \n",
    "        \n",
    "        \n",
    "    elif train_model == 'rf':\n",
    "        classifier = RandomForestClassifier(random_state=42)\n",
    "        classifier.fit(X_train_undersampled,y_train_undersampled)\n",
    "    elif train_model == 'lr':\n",
    "        classifier = LogisticRegression(random_state=42)\n",
    "        classifier.fit(X_train_undersampled,y_train_undersampled)\n",
    "    elif train_model == 'XGBoost':\n",
    "        classifier = XGBClassifier(random_state=42)\n",
    "        classifier.fit(X_train_undersampled,y_train_undersampled)\n",
    "    elif train_model == 'knn':\n",
    "        classifier = KNeighborsClassifier()\n",
    "        classifier.fit(X_train_undersampled,y_train_undersampled)\n",
    "    elif train_model == 'dt':\n",
    "        classifier = DecisionTreeClassifier(random_state=42)\n",
    "        classifier.fit(X_train_undersampled,y_train_undersampled)\n",
    "\n",
    "\n",
    "\n",
    "    y_pred = classifier.predict(X_test)\n",
    "    if train_model == 'dnn':\n",
    "        y_pred = (y_pred >= 0.5).astype(int)\n",
    "        \n",
    "\n",
    "    accuracy = accuracy_score(y_test, y_pred)\n",
    "    precision = precision_score(y_test, y_pred)\n",
    "    recall = recall_score(y_test, y_pred)\n",
    "    f1 = f1_score(y_test, y_pred)\n",
    "\n",
    "    print(\"Classification Results:\")\n",
    "    print(\"Accuracy:\", accuracy)\n",
    "    print(\"Precision:\", precision)\n",
    "    print(\"Recall:\", recall)\n",
    "    print(\"F1-score:\", f1)"
   ]
  },
  {
   "cell_type": "code",
   "execution_count": 13,
   "metadata": {},
   "outputs": [
    {
     "name": "stdout",
     "output_type": "stream",
     "text": [
      "Number of fraud transactions: 492\n",
      "Number of non-fraud transactions: 284315\n"
     ]
    }
   ],
   "source": [
    "data = pd.read_csv('creditcard.csv')\n",
    "\n",
    "fraud_count = data['Class'].sum()\n",
    "non_fraud_count = len(data) - fraud_count\n",
    "print(\"Number of fraud transactions:\", fraud_count)\n",
    "print(\"Number of non-fraud transactions:\", non_fraud_count)"
   ]
  },
  {
   "cell_type": "code",
   "execution_count": 14,
   "metadata": {},
   "outputs": [
    {
     "name": "stdout",
     "output_type": "stream",
     "text": [
      "Classification Results:\n",
      "Accuracy: 0.9983673326077034\n",
      "Precision: 0.5165562913907285\n",
      "Recall: 0.7959183673469388\n",
      "F1-score: 0.6265060240963854\n"
     ]
    }
   ],
   "source": [
    "classify(train_model = 'svm',percentage = 1)"
   ]
  },
  {
   "cell_type": "code",
   "execution_count": 17,
   "metadata": {},
   "outputs": [
    {
     "name": "stdout",
     "output_type": "stream",
     "text": [
      "Classification Results:\n",
      "Accuracy: 0.9914504406446403\n",
      "Precision: 0.15817223198594024\n",
      "Recall: 0.9183673469387755\n",
      "F1-score: 0.2698650674662668\n"
     ]
    },
    {
     "name": "stderr",
     "output_type": "stream",
     "text": [
      "c:\\Users\\COMPUTER SHAHR\\anaconda3\\envs\\quera1\\lib\\site-packages\\sklearn\\linear_model\\_logistic.py:460: ConvergenceWarning: lbfgs failed to converge (status=1):\n",
      "STOP: TOTAL NO. of ITERATIONS REACHED LIMIT.\n",
      "\n",
      "Increase the number of iterations (max_iter) or scale the data as shown in:\n",
      "    https://scikit-learn.org/stable/modules/preprocessing.html\n",
      "Please also refer to the documentation for alternative solver options:\n",
      "    https://scikit-learn.org/stable/modules/linear_model.html#logistic-regression\n",
      "  n_iter_i = _check_optimize_result(\n"
     ]
    }
   ],
   "source": [
    "classify(train_model = 'lr',percentage = 1)"
   ]
  },
  {
   "cell_type": "code",
   "execution_count": 26,
   "metadata": {},
   "outputs": [
    {
     "name": "stdout",
     "output_type": "stream",
     "text": [
      "Epoch 1/15\n"
     ]
    },
    {
     "name": "stderr",
     "output_type": "stream",
     "text": [
      "c:\\Users\\COMPUTER SHAHR\\anaconda3\\envs\\quera1\\lib\\site-packages\\keras\\optimizers\\optimizer_v2\\adam.py:114: UserWarning: The `lr` argument is deprecated, use `learning_rate` instead.\n",
      "  super().__init__(name, **kwargs)\n"
     ]
    },
    {
     "name": "stdout",
     "output_type": "stream",
     "text": [
      "9098/9098 [==============================] - 14s 1ms/step - loss: 0.0313 - accuracy: 0.9899 - val_loss: 0.0143 - val_accuracy: 0.9959\n",
      "Epoch 2/15\n",
      "9098/9098 [==============================] - 14s 2ms/step - loss: 0.0138 - accuracy: 0.9958 - val_loss: 0.0101 - val_accuracy: 0.9981\n",
      "Epoch 3/15\n",
      "9098/9098 [==============================] - 14s 2ms/step - loss: 0.0100 - accuracy: 0.9971 - val_loss: 0.0033 - val_accuracy: 0.9995\n",
      "Epoch 4/15\n",
      "9098/9098 [==============================] - 14s 2ms/step - loss: 0.0088 - accuracy: 0.9976 - val_loss: 0.0085 - val_accuracy: 0.9972\n",
      "Epoch 5/15\n",
      "9098/9098 [==============================] - 14s 2ms/step - loss: 0.0073 - accuracy: 0.9980 - val_loss: 0.0021 - val_accuracy: 0.9999\n",
      "Epoch 6/15\n",
      "9098/9098 [==============================] - 15s 2ms/step - loss: 0.0082 - accuracy: 0.9980 - val_loss: 0.0042 - val_accuracy: 0.9989\n",
      "Epoch 7/15\n",
      "9098/9098 [==============================] - 15s 2ms/step - loss: 0.0071 - accuracy: 0.9983 - val_loss: 0.0114 - val_accuracy: 0.9957\n",
      "Epoch 8/15\n",
      "9098/9098 [==============================] - 14s 2ms/step - loss: 0.0068 - accuracy: 0.9983 - val_loss: 0.0027 - val_accuracy: 0.9995\n",
      "Epoch 9/15\n",
      "9098/9098 [==============================] - 14s 2ms/step - loss: 0.0057 - accuracy: 0.9985 - val_loss: 0.0017 - val_accuracy: 0.9999\n",
      "Epoch 10/15\n",
      "9098/9098 [==============================] - 14s 2ms/step - loss: 0.0053 - accuracy: 0.9986 - val_loss: 0.0054 - val_accuracy: 0.9992\n",
      "Epoch 11/15\n",
      "9098/9098 [==============================] - 16s 2ms/step - loss: 0.0059 - accuracy: 0.9987 - val_loss: 0.0014 - val_accuracy: 0.9998\n",
      "Epoch 12/15\n",
      "9098/9098 [==============================] - 17s 2ms/step - loss: 0.0051 - accuracy: 0.9988 - val_loss: 0.0074 - val_accuracy: 0.9973\n",
      "Epoch 13/15\n",
      "9098/9098 [==============================] - 14s 2ms/step - loss: 0.0085 - accuracy: 0.9987 - val_loss: 0.0010 - val_accuracy: 1.0000\n",
      "Epoch 14/15\n",
      "9098/9098 [==============================] - 14s 2ms/step - loss: 0.0065 - accuracy: 0.9988 - val_loss: 0.0014 - val_accuracy: 0.9998\n",
      "Epoch 15/15\n",
      "9098/9098 [==============================] - 14s 2ms/step - loss: 0.0052 - accuracy: 0.9990 - val_loss: 0.0025 - val_accuracy: 0.9991\n",
      "1781/1781 [==============================] - 2s 928us/step\n",
      "Classification Results:\n",
      "Accuracy: 0.9985604438046417\n",
      "Precision: 0.5547945205479452\n",
      "Recall: 0.826530612244898\n",
      "F1-score: 0.6639344262295082\n"
     ]
    }
   ],
   "source": [
    "classify(train_model = 'dnn',percentage = 0.8,epoche=15)"
   ]
  },
  {
   "cell_type": "code",
   "execution_count": 27,
   "metadata": {},
   "outputs": [
    {
     "name": "stdout",
     "output_type": "stream",
     "text": [
      "Classification Results:\n",
      "Accuracy: 0.9995435553526912\n",
      "Precision: 0.875\n",
      "Recall: 0.8571428571428571\n",
      "F1-score: 0.8659793814432989\n"
     ]
    }
   ],
   "source": [
    "classify(train_model = 'rf',percentage = 1)"
   ]
  },
  {
   "cell_type": "code",
   "execution_count": 28,
   "metadata": {},
   "outputs": [
    {
     "name": "stdout",
     "output_type": "stream",
     "text": [
      "Classification Results:\n",
      "Accuracy: 0.999420666409185\n",
      "Precision: 0.8155339805825242\n",
      "Recall: 0.8571428571428571\n",
      "F1-score: 0.835820895522388\n"
     ]
    }
   ],
   "source": [
    "classify(train_model = 'XGBoost',percentage = 1)"
   ]
  },
  {
   "cell_type": "code",
   "execution_count": 9,
   "metadata": {},
   "outputs": [
    {
     "name": "stdout",
     "output_type": "stream",
     "text": [
      "Classification Results:\n",
      "Accuracy: 0.9978582212703205\n",
      "Precision: 0.4294117647058823\n",
      "Recall: 0.7448979591836735\n",
      "F1-score: 0.5447761194029851\n"
     ]
    }
   ],
   "source": [
    "classify(train_model = 'dt',percentage = 1)\n"
   ]
  },
  {
   "cell_type": "code",
   "execution_count": 10,
   "metadata": {},
   "outputs": [
    {
     "name": "stdout",
     "output_type": "stream",
     "text": [
      "Classification Results:\n",
      "Accuracy: 0.9984375548611355\n",
      "Precision: 0.5290322580645161\n",
      "Recall: 0.8367346938775511\n",
      "F1-score: 0.6482213438735178\n"
     ]
    }
   ],
   "source": [
    "classify(train_model = 'knn',percentage = 1)"
   ]
  },
  {
   "cell_type": "code",
   "execution_count": 6,
   "metadata": {},
   "outputs": [
    {
     "name": "stderr",
     "output_type": "stream",
     "text": [
      "c:\\Users\\COMPUTER SHAHR\\anaconda3\\envs\\quera1\\lib\\site-packages\\sklearn\\cluster\\_kmeans.py:1412: FutureWarning: The default value of `n_init` will change from 10 to 'auto' in 1.4. Set the value of `n_init` explicitly to suppress the warning\n",
      "  super()._check_params_vs_input(X, default_n_init=10)\n"
     ]
    },
    {
     "name": "stdout",
     "output_type": "stream",
     "text": [
      "Percentage of fraudulent transactions in cluster 0: 0.002154567356345854 number of fraudulent in cluster 0: 330\n",
      "Percentage of fraudulent transactions in cluster 1: 0.0012305915955151774 number of fraudulent in cluster 1: 162\n",
      "Percentage of fraudulent transactions that are in cluster 0: 0.6707317073170732\n",
      "Percentage of fraudulent transactions that are in cluster 1: 0.32926829268292684\n"
     ]
    },
    {
     "data": {
      "image/png": "[encoded data removed]",
      "text/plain": [
       "<Figure size 800x600 with 1 Axes>"
      ]
     },
     "metadata": {},
     "output_type": "display_data"
    }
   ],
   "source": [
    "import pandas as pd\n",
    "import matplotlib.pyplot as plt\n",
    "from sklearn.cluster import KMeans\n",
    "\n",
    "# Load the dataset\n",
    "data = pd.read_csv('creditcard.csv')\n",
    "\n",
    "# Exclude the  'Class' columns from clustering analysis\n",
    "X = data.drop(['Class'], axis=1)\n",
    "\n",
    "# Perform clustering using K-Means\n",
    "kmeans = KMeans(n_clusters=2, random_state=42)\n",
    "clusters = kmeans.fit_predict(X)\n",
    "\n",
    "# percentage of fraudulent in cluster 0 and number of fraudulent in cluster 0\n",
    "print(\"Percentage of fraudulent transactions in cluster 0:\", data.iloc[clusters == 0]['Class'].sum() / len(data.iloc[clusters == 0]), 'number of fraudulent in cluster 0:', data.iloc[clusters == 0]['Class'].sum())\n",
    "# percentage of fraudulent in cluster 1 and number of fraudulent in cluster 1\n",
    "print(\"Percentage of fraudulent transactions in cluster 1:\", data.iloc[clusters == 1]['Class'].sum() / len(data.iloc[clusters == 1]), 'number of fraudulent in cluster 1:', data.iloc[clusters == 1]['Class'].sum())\n",
    "# percentage of fraudulent that are in cluster 0 \n",
    "fraud_count = data['Class'].sum()\n",
    "print(\"Percentage of fraudulent transactions that are in cluster 0:\", data.iloc[clusters == 0]['Class'].sum() / fraud_count)\n",
    "# percentage of fraudulent that are in cluster 1\n",
    "print(\"Percentage of fraudulent transactions that are in cluster 1:\", data.iloc[clusters == 1]['Class'].sum() / fraud_count)\n",
    "\n",
    "# Analyze the clusters\n",
    "cluster_analysis = pd.DataFrame({'Clusters': clusters, 'Class': data['Class']})\n",
    "cluster_counts = cluster_analysis.groupby(['Clusters', 'Class']).size().unstack()\n",
    "\n",
    "# Plotting the cluster analysis\n",
    "fig, ax = plt.subplots(figsize=(8, 6))\n",
    "cluster_counts.plot(kind='bar', stacked=True, ax=ax)\n",
    "ax.set_xlabel('Clusters')\n",
    "ax.set_ylabel('Count')\n",
    "ax.set_title('Cluster Analysis - Fraudulent vs Non-Fraudulent Transactions')\n",
    "plt.xticks(rotation=0)\n",
    "plt.legend(['Non-Fraudulent', 'Fraudulent'])\n",
    "plt.show()"
   ]
  }
 ],
 "metadata": {
  "kernelspec": {
   "display_name": "quera1",
   "language": "python",
   "name": "python3"
  },
  "language_info": {
   "codemirror_mode": {
    "name": "ipython",
    "version": 3
   },
   "file_extension": ".py",
   "mimetype": "text/x-python",
   "name": "python",
   "nbconvert_exporter": "python",
   "pygments_lexer": "ipython3",
   "version": "3.9.17"
  },
  "orig_nbformat": 4
 },
 "nbformat": 4,
 "nbformat_minor": 2
}
